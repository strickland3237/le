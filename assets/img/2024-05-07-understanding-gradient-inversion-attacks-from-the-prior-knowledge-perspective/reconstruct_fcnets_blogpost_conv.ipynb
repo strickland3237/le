{
 "cells": [
  {
   "cell_type": "code",
   "execution_count": 1,
   "metadata": {},
   "outputs": [
    {
     "name": "stdout",
     "output_type": "stream",
     "text": [
      "1.12.1 0.13.1\n",
      "Setting up [LPIPS] perceptual loss: trunk [alex], v[0.1], spatial [off]\n"
     ]
    },
    {
     "name": "stderr",
     "output_type": "stream",
     "text": [
      "/home/yanbo.wang/data/anaconda3/envs/cripac/lib/python3.9/site-packages/torchvision/models/_utils.py:208: UserWarning: The parameter 'pretrained' is deprecated since 0.13 and will be removed in 0.15, please use 'weights' instead.\n",
      "  warnings.warn(\n",
      "/home/yanbo.wang/data/anaconda3/envs/cripac/lib/python3.9/site-packages/torchvision/models/_utils.py:223: UserWarning: Arguments other than a weight enum or `None` for 'weights' are deprecated since 0.13 and will be removed in 0.15. The current behavior is equivalent to passing `weights=AlexNet_Weights.IMAGENET1K_V1`. You can also use `weights=AlexNet_Weights.DEFAULT` to get the most up-to-date weights.\n",
      "  warnings.warn(msg)\n"
     ]
    },
    {
     "name": "stdout",
     "output_type": "stream",
     "text": [
      "Loading model from: /home/yanbo.wang/data/anaconda3/envs/cripac/lib/python3.9/site-packages/lpips/weights/v0.1/alex.pth\n"
     ]
    },
    {
     "data": {
      "text/plain": [
       "<torch._C.Generator at 0x7feb77f84d30>"
      ]
     },
     "execution_count": 1,
     "metadata": {},
     "output_type": "execute_result"
    }
   ],
   "source": [
    "import torch\n",
    "import numpy as np\n",
    "from copy import deepcopy\n",
    "from typing import OrderedDict\n",
    "from recovering import label_recovery\n",
    "from skimage.metrics import structural_similarity as SSIM\n",
    "from skimage.metrics import peak_signal_noise_ratio as PSNR\n",
    "import lpips\n",
    "from torchvision import transforms\n",
    "from matplotlib import pyplot as plt\n",
    "from torch import nn\n",
    "loss_fn = lpips.LPIPS(net='alex')\n",
    "seed=0\n",
    "np.random.seed(seed)\n",
    "torch.manual_seed(seed)"
   ]
  },
  {
   "cell_type": "code",
   "execution_count": 2,
   "metadata": {},
   "outputs": [],
   "source": [
    "CONFIG=OrderedDict(device=torch.device('cuda:0'),\n",
    "    dataset=\"cifar10\",\n",
    "    network=\"lenet\",\n",
    "    opt=\"lbfgs\",\n",
    "    type='label_smooth',\n",
    "    pretrained=False,\n",
    "    lr=0.5,\n",
    "    bound=100,\n",
    "    iteration=200,\n",
    "    initia=1.,\n",
    "    coefficient=1)\n",
    "test=label_recovery(CONFIG)\n",
    "test.datadir='/home/yanbo.wang/'+test.datadir\n",
    "test.datalist='/home/yanbo.wang/'+test.datalist"
   ]
  },
  {
   "cell_type": "code",
   "execution_count": 3,
   "metadata": {},
   "outputs": [],
   "source": [
    "prob=0  \n",
    "test.setup(125,prob)"
   ]
  },
  {
   "cell_type": "code",
   "execution_count": 4,
   "metadata": {},
   "outputs": [
    {
     "data": {
      "text/plain": [
       "<matplotlib.image.AxesImage at 0x7fead14e3580>"
      ]
     },
     "execution_count": 4,
     "metadata": {},
     "output_type": "execute_result"
    },
    {
     "data": {
      "image/png": "[encoded data removed]",
      "text/plain": [
       "<Figure size 640x480 with 1 Axes>"
      ]
     },
     "metadata": {},
     "output_type": "display_data"
    }
   ],
   "source": [
    "plt.imshow(test.tp(test.origin_data.reshape((3,32,32))))"
   ]
  },
  {
   "cell_type": "markdown",
   "metadata": {},
   "source": [
    "origin"
   ]
  },
  {
   "cell_type": "code",
   "execution_count": 5,
   "metadata": {},
   "outputs": [],
   "source": [
    "cost_fn='sim' \n",
    "\n",
    "if cost_fn=='l2':\n",
    "    iteration=300\n",
    "    lr=0.3\n",
    "    optim_fn='lbfgs'\n",
    "    verble=50\n",
    "    lr_decay=True\n",
    "    total_v=0\n",
    "elif cost_fn=='sim':\n",
    "    iteration=20000\n",
    "    lr=0.1\n",
    "    optim_fn='adam'\n",
    "    verble=1000\n",
    "    lr_decay=True\n",
    "    total_v=0"
   ]
  },
  {
   "cell_type": "markdown",
   "metadata": {},
   "source": [
    "18"
   ]
  },
  {
   "cell_type": "code",
   "execution_count": 6,
   "metadata": {},
   "outputs": [
    {
     "name": "stdout",
     "output_type": "stream",
     "text": [
      "Iter: 1; Loss: 0.1589900255203247\n",
      "Iter: 1000; Loss: 0.003419816493988037\n",
      "Iter: 2000; Loss: 0.002889573574066162\n",
      "Iter: 3000; Loss: 0.0021927356719970703\n",
      "Iter: 4000; Loss: 0.0028635263442993164\n",
      "Iter: 5000; Loss: 0.007455706596374512\n",
      "Iter: 6000; Loss: 0.0015504956245422363\n",
      "Iter: 7000; Loss: 0.002479732036590576\n",
      "Iter: 8000; Loss: 0.00027549266815185547\n",
      "Iter: 9000; Loss: 0.00020068883895874023\n",
      "Iter: 10000; Loss: 0.00014472007751464844\n",
      "Iter: 11000; Loss: 9.626150131225586e-05\n",
      "Iter: 12000; Loss: 6.943941116333008e-05\n",
      "Iter: 13000; Loss: 5.054473876953125e-05\n",
      "Iter: 14000; Loss: 4.756450653076172e-05\n",
      "Iter: 15000; Loss: 4.285573959350586e-05\n",
      "Iter: 16000; Loss: 3.528594970703125e-05\n",
      "Iter: 17000; Loss: 2.676248550415039e-05\n",
      "Iter: 18000; Loss: 2.288818359375e-05\n",
      "Iter: 19000; Loss: 2.193450927734375e-05\n",
      "Iter: 20000; Loss: 2.0802021026611328e-05\n",
      "Total time: 176.30130553245544.\n"
     ]
    }
   ],
   "source": [
    "test.reconstruct(iteration=iteration, cost_fn=cost_fn, lr=lr, optim_fn=optim_fn, magnify=1,label='origin',verble=verble,lr_decay=lr_decay,total_variation=total_v,keep=False,record_picking=True)"
   ]
  },
  {
   "cell_type": "code",
   "execution_count": 9,
   "metadata": {},
   "outputs": [
    {
     "name": "stdout",
     "output_type": "stream",
     "text": [
      "0.6867768288364463\n",
      "16.290770050788893\n",
      "tensor([[[[0.1659]]]], grad_fn=<AddBackward0>)\n"
     ]
    }
   ],
   "source": [
    "psnr=PSNR(np.asarray(test.tp(test.origin_data.reshape((3,32,32)))), np.asarray(test.tp(test.dummy_data.reshape((3,32,32)))),data_range=256)\n",
    "ssim=SSIM(np.asarray(test.tp(test.origin_data.reshape((3,32,32)))), np.asarray(test.tp(test.dummy_data.reshape((3,32,32)))),channel_axis=2)\n",
    "test.tp(test.dummy_data.reshape((3,32,32))).save('iggg.jpg')\n",
    "lpipss=loss_fn.forward(lpips.im2tensor(lpips.load_image('gt.jpg')),lpips.im2tensor(lpips.load_image('iggg.jpg')))\n",
    "print(ssim)\n",
    "print(psnr)\n",
    "print(lpipss)"
   ]
  },
  {
   "cell_type": "code",
   "execution_count": 10,
   "metadata": {},
   "outputs": [
    {
     "name": "stdout",
     "output_type": "stream",
     "text": [
      "2.0682811737060547e-05\n",
      "19956\n"
     ]
    },
    {
     "data": {
      "text/plain": [
       "<matplotlib.image.AxesImage at 0x7fe9618a8cd0>"
      ]
     },
     "execution_count": 10,
     "metadata": {},
     "output_type": "execute_result"
    },
    {
     "data": {
      "image/png": "[encoded data removed]",
      "text/plain": [
       "<Figure size 640x480 with 1 Axes>"
      ]
     },
     "metadata": {},
     "output_type": "display_data"
    }
   ],
   "source": [
    "print(test.runningloss)\n",
    "print(np.argmin(test.buffer_loss))\n",
    "plt.imshow(test.tp(test.dummy_data.reshape((3,32,32))))"
   ]
  },
  {
   "cell_type": "code",
   "execution_count": 11,
   "metadata": {},
   "outputs": [],
   "source": [
    "import imageio"
   ]
  },
  {
   "cell_type": "code",
   "execution_count": 12,
   "metadata": {},
   "outputs": [],
   "source": [
    "image=[]\n",
    "for ind,i in enumerate(test.buffer_image):\n",
    "    if ind%200==0 and ind<20000:\n",
    "        image.append(test.tp(i.reshape((3,32,32))))\n",
    "imageio.mimsave(\"/home/yanbo.wang/data/fc_recovery/blog_conv/bs1_cos.gif\",image,'GIF',duration=0.002)"
   ]
  },
  {
   "cell_type": "code",
   "execution_count": 13,
   "metadata": {},
   "outputs": [
    {
     "name": "stdout",
     "output_type": "stream",
     "text": [
      "Iter: 1; Loss: 236.57968139648438\n",
      "Iter: 50; Loss: 0.0547005720436573\n",
      "Iter: 100; Loss: 0.0158891212195158\n",
      "Iter: 150; Loss: 0.011264626868069172\n",
      "Iter: 200; Loss: 0.010273171588778496\n",
      "Iter: 250; Loss: 0.010252485051751137\n",
      "Iter: 300; Loss: 0.010249529033899307\n",
      "Total time: 87.89336776733398.\n",
      "0.8154561355182287\n",
      "19.152733844889955\n",
      "tensor([[[[0.1745]]]], grad_fn=<AddBackward0>)\n"
     ]
    }
   ],
   "source": [
    "cost_fn='l2' \n",
    "\n",
    "if cost_fn=='l2':\n",
    "    iteration=300\n",
    "    lr=0.3\n",
    "    optim_fn='lbfgs'\n",
    "    verble=50\n",
    "    lr_decay=True\n",
    "    total_v=0\n",
    "elif cost_fn=='sim':\n",
    "    iteration=20000\n",
    "    lr=0.1\n",
    "    optim_fn='adam'\n",
    "    verble=1000\n",
    "    lr_decay=True\n",
    "    total_v=0\n",
    "test.reconstruct(iteration=iteration, cost_fn=cost_fn, lr=lr, optim_fn=optim_fn, magnify=1,label='origin',verble=verble,lr_decay=lr_decay,total_variation=total_v,keep=False,record_picking=True)\n",
    "psnr=PSNR(np.asarray(test.tp(test.origin_data.reshape((3,32,32)))), np.asarray(test.tp(test.dummy_data.reshape((3,32,32)))),data_range=256)\n",
    "ssim=SSIM(np.asarray(test.tp(test.origin_data.reshape((3,32,32)))), np.asarray(test.tp(test.dummy_data.reshape((3,32,32)))),channel_axis=2)\n",
    "test.tp(test.dummy_data.reshape((3,32,32))).save('iggg.jpg')\n",
    "lpipss=loss_fn.forward(lpips.im2tensor(lpips.load_image('gt.jpg')),lpips.im2tensor(lpips.load_image('iggg.jpg')))\n",
    "print(ssim)\n",
    "print(psnr)\n",
    "print(lpipss)"
   ]
  },
  {
   "cell_type": "code",
   "execution_count": 17,
   "metadata": {},
   "outputs": [],
   "source": [
    "image=[]\n",
    "for ind,i in enumerate(test.buffer_image):\n",
    "    if ind<300:\n",
    "        image.append(test.tp(i.reshape((3,32,32))))\n",
    "imageio.mimsave(\"/home/yanbo.wang/data/fc_recovery/blog_conv/bs1_l2.gif\",image,'GIF',duration=0.01)"
   ]
  },
  {
   "cell_type": "code",
   "execution_count": 18,
   "metadata": {},
   "outputs": [],
   "source": [
    "image2,label2,_=test._label_smooth(1125,0)"
   ]
  },
  {
   "cell_type": "code",
   "execution_count": 19,
   "metadata": {},
   "outputs": [],
   "source": [
    "test.origin_data,test.origin_label=test.origin_data.to('cpu'),test.origin_label.to('cpu')\n",
    "test.origin_data=torch.cat((test.origin_data,image2),0)\n",
    "test.origin_label=torch.cat((test.origin_label,label2),0)\n",
    "test.origin_data,test.origin_label=test.origin_data.to(test.device),test.origin_label.to(test.device)"
   ]
  },
  {
   "cell_type": "code",
   "execution_count": 20,
   "metadata": {},
   "outputs": [],
   "source": [
    "y=test.net(test.origin_data)\n",
    "loss=test.criterion(y,test.origin_label)\n",
    "test.net.zero_grad()\n",
    "dy_dx = torch.autograd.grad(loss, test.net.parameters(),retain_graph=True)\n",
    "#test.dy_dx=dy_dx\n",
    "test.whole_gradient = list((_.detach().clone() for _ in dy_dx))\n",
    "test.net.zero_grad()\n",
    "loss.backward()\n",
    "test.input_ground_truth=test.net.temp\n",
    "test.gradient=deepcopy(test.forward_function.weight.grad)\n",
    "init_pick=torch.argmax(abs(test.forward_function.weight.grad.sum(dim=1)))\n",
    "recover_init=deepcopy(test.forward_function.weight.grad[init_pick])# refer to x\n",
    "test.recover_init=recover_init/test.config['coefficient']\n",
    "test.ground_truth=np.nanmean((test.net.temp/test.recover_init).cpu().detach())\n",
    "test.recover_init.requires_grad_(False)\n",
    "test.dummy_image=torch.randn(test.origin_data.size())"
   ]
  },
  {
   "cell_type": "code",
   "execution_count": 21,
   "metadata": {},
   "outputs": [
    {
     "data": {
      "text/plain": [
       "torch.Size([2, 3, 32, 32])"
      ]
     },
     "execution_count": 21,
     "metadata": {},
     "output_type": "execute_result"
    }
   ],
   "source": [
    "test.origin_data.shape"
   ]
  },
  {
   "cell_type": "code",
   "execution_count": 22,
   "metadata": {},
   "outputs": [],
   "source": [
    "cost_fn='sim' \n",
    "\n",
    "if cost_fn=='l2':\n",
    "    iteration=300\n",
    "    lr=0.05\n",
    "    optim_fn='adam'\n",
    "    verble=50\n",
    "    lr_decay=True\n",
    "    total_v=0\n",
    "elif cost_fn=='sim':\n",
    "    iteration=20000\n",
    "    lr=0.1\n",
    "    optim_fn='adam'\n",
    "    verble=1000\n",
    "    lr_decay=True\n",
    "    total_v=0"
   ]
  },
  {
   "cell_type": "code",
   "execution_count": 23,
   "metadata": {},
   "outputs": [
    {
     "name": "stdout",
     "output_type": "stream",
     "text": [
      "Iter: 1; Loss: 0.2564031481742859\n",
      "Iter: 1000; Loss: 0.003616154193878174\n",
      "Iter: 2000; Loss: 0.0018900036811828613\n",
      "Iter: 3000; Loss: 0.0020332932472229004\n",
      "Iter: 4000; Loss: 0.002619802951812744\n",
      "Iter: 5000; Loss: 0.00125885009765625\n",
      "Iter: 6000; Loss: 0.001761317253112793\n",
      "Iter: 7000; Loss: 0.0011643767356872559\n",
      "Iter: 8000; Loss: 0.0015917420387268066\n",
      "Iter: 9000; Loss: 0.0010817646980285645\n",
      "Iter: 10000; Loss: 0.0009047985076904297\n",
      "Iter: 11000; Loss: 0.0007572770118713379\n",
      "Iter: 12000; Loss: 0.0006709694862365723\n",
      "Iter: 13000; Loss: 0.0006108880043029785\n",
      "Iter: 14000; Loss: 0.0005977153778076172\n",
      "Iter: 15000; Loss: 0.0005781054496765137\n",
      "Iter: 16000; Loss: 0.000553429126739502\n",
      "Iter: 17000; Loss: 0.0005243420600891113\n",
      "Iter: 18000; Loss: 0.0005087852478027344\n",
      "Iter: 19000; Loss: 0.000504910945892334\n",
      "Iter: 20000; Loss: 0.0004994869232177734\n",
      "Total time: 189.0468213558197.\n"
     ]
    }
   ],
   "source": [
    "test.reconstruct(iteration=iteration, cost_fn=cost_fn, lr=lr, optim_fn=optim_fn, magnify=1,label='origin',verble=verble,lr_decay=lr_decay,total_variation=total_v,keep=False,record_picking=True)"
   ]
  },
  {
   "cell_type": "code",
   "execution_count": 43,
   "metadata": {},
   "outputs": [
    {
     "name": "stdout",
     "output_type": "stream",
     "text": [
      "Iter: 1; Loss: 0.2564030885696411\n",
      "Iter: 1000; Loss: 0.004809260368347168\n",
      "Iter: 2000; Loss: 0.0026966333389282227\n",
      "Iter: 3000; Loss: 0.018314123153686523\n",
      "Iter: 4000; Loss: 0.0014654994010925293\n",
      "Iter: 5000; Loss: 0.0014504790306091309\n",
      "Iter: 6000; Loss: 0.005638599395751953\n",
      "Iter: 7000; Loss: 0.0014437437057495117\n",
      "Iter: 8000; Loss: 0.0010001659393310547\n",
      "Iter: 9000; Loss: 0.000914454460144043\n",
      "Iter: 10000; Loss: 0.0008242130279541016\n",
      "Iter: 11000; Loss: 0.0007269382476806641\n",
      "Iter: 12000; Loss: 0.000635981559753418\n",
      "Iter: 13000; Loss: 0.000588834285736084\n",
      "Iter: 14000; Loss: 0.0005760788917541504\n",
      "Iter: 15000; Loss: 0.0005586743354797363\n",
      "Iter: 16000; Loss: 0.0005345344543457031\n",
      "Iter: 17000; Loss: 0.000507354736328125\n",
      "Iter: 18000; Loss: 0.0004924535751342773\n",
      "Iter: 19000; Loss: 0.0004886388778686523\n",
      "Iter: 20000; Loss: 0.0004831552505493164\n",
      "Total time: 180.78040885925293.\n"
     ]
    }
   ],
   "source": [
    "test.reconstruct(iteration=iteration, cost_fn=cost_fn, lr=lr, optim_fn=optim_fn, magnify=1,label='origin',verble=verble,lr_decay=lr_decay,total_variation=total_v,keep=False,record_picking=True)"
   ]
  },
  {
   "cell_type": "code",
   "execution_count": 28,
   "metadata": {},
   "outputs": [],
   "source": [
    "image=[]\n",
    "for ind,i in enumerate(test.buffer_image):\n",
    "    if ind%500==0 and ind<20000:\n",
    "        image.append(test.tp(i[0].reshape((3,32,32))))\n",
    "imageio.mimsave(\"/home/yanbo.wang/data/fc_recovery/blog_conv/bs2_cos.gif\",image,'GIF',duration=0.002)\n",
    "image=[]\n",
    "for ind,i in enumerate(test.buffer_image):\n",
    "    if ind%500==0 and ind<20000:\n",
    "        image.append(test.tp(i[1].reshape((3,32,32))))\n",
    "imageio.mimsave(\"/home/yanbo.wang/data/fc_recovery/blog_conv/bs2_cos1.gif\",image,'GIF',duration=0.002)"
   ]
  },
  {
   "cell_type": "code",
   "execution_count": 24,
   "metadata": {},
   "outputs": [
    {
     "data": {
      "text/plain": [
       "19991"
      ]
     },
     "execution_count": 24,
     "metadata": {},
     "output_type": "execute_result"
    }
   ],
   "source": [
    "np.argmin(test.buffer_loss)"
   ]
  },
  {
   "cell_type": "code",
   "execution_count": 26,
   "metadata": {},
   "outputs": [
    {
     "data": {
      "text/plain": [
       "<matplotlib.image.AxesImage at 0x7fead00e5b50>"
      ]
     },
     "execution_count": 26,
     "metadata": {},
     "output_type": "execute_result"
    },
    {
     "data": {
      "image/png": "[encoded data removed]",
      "text/plain": [
       "<Figure size 640x480 with 1 Axes>"
      ]
     },
     "metadata": {},
     "output_type": "display_data"
    }
   ],
   "source": [
    "plt.imshow(test.tp(test.buffer_image[19997][1].reshape((3,32,32))))"
   ]
  },
  {
   "cell_type": "code",
   "execution_count": 27,
   "metadata": {},
   "outputs": [
    {
     "name": "stdout",
     "output_type": "stream",
     "text": [
      "9.461124749130008\n",
      "0.01670989700714937\n"
     ]
    }
   ],
   "source": [
    "print(PSNR(np.asarray(test.tp(test.origin_data[0].reshape((3,32,32)))), np.asarray(test.tp(test.dummy_data[0].reshape((3,32,32)))),data_range=256))\n",
    "print(SSIM(np.asarray(test.tp(test.origin_data[0].reshape((3,32,32)))), np.asarray(test.tp(test.dummy_data[0].reshape((3,32,32)))),channel_axis=2))"
   ]
  }
 ],
 "metadata": {
  "interpreter": {
   "hash": "a6ea10b10f0b80ec39a4eed8f5c13cd7c529b2521b7d82adb529257501b7d4fc"
  },
  "kernelspec": {
   "display_name": "Python 3.10.6 ('cripac')",
   "language": "python",
   "name": "python3"
  },
  "language_info": {
   "codemirror_mode": {
    "name": "ipython",
    "version": 3
   },
   "file_extension": ".py",
   "mimetype": "text/x-python",
   "name": "python",
   "nbconvert_exporter": "python",
   "pygments_lexer": "ipython3",
   "version": "3.9.13"
  },
  "orig_nbformat": 4
 },
 "nbformat": 4,
 "nbformat_minor": 2
}
